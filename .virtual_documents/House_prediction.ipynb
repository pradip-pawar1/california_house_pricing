import pandas as pd
import numpy as np
import matplotlib.pyplot as plt
import seaborn as sns


df = pd.read_csv("housing.csv")


df.head()


df.tail()


df.info()


df.shape


df.describe()


df.columns


columns = ['longitude', 'latitude', 'housing_median_age', 'total_rooms',
       'total_bedrooms', 'population', 'households', 'median_income',
       'median_house_value']

for cols in columns:
    plt.figure(figsize=(6,4))
    sns.histplot(df[cols], kde = True, bins = 20)



